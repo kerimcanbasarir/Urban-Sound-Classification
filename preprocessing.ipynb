{
 "cells": [
  {
   "cell_type": "markdown",
   "id": "f016aa4a",
   "metadata": {},
   "source": [
    "### Importing the required libraries"
   ]
  },
  {
   "cell_type": "code",
   "execution_count": 1,
   "id": "bf525576",
   "metadata": {},
   "outputs": [],
   "source": [
    "import numpy as np\n",
    "import pandas as pd\n",
    "import matplotlib.pyplot as plt\n",
    "import tensorflow as tf\n",
    "import os\n",
    "import cv2"
   ]
  },
  {
   "cell_type": "markdown",
   "id": "5257660d",
   "metadata": {},
   "source": [
    "### Importing spectrograms"
   ]
  },
  {
   "cell_type": "code",
   "execution_count": 2,
   "id": "22afd275",
   "metadata": {},
   "outputs": [],
   "source": [
    "from pathlib import Path\n",
    "img_path = \"/kaggle/temp/spectrograms/\"\n",
    "\n",
    "classes = [\"air_conditioner\",\"car_horn\",\"children_playing\",\"dog_bark\",\"drilling\",\"engine_idling\",\n",
    "           \"gun_shot\",\"jackhammer\",\"siren\",\"street_music\"]\n",
    "\n",
    "img_files_list=[]\n",
    "\n",
    "for folder in range(0,10):\n",
    "    for img_file in os.listdir(img_path + str(folder)):\n",
    "        \n",
    "        image = img_path+str(folder) + \"/\" + str(img_file)\n",
    "        \n",
    "        img_files_list.append([image, classes[int(folder)]])"
   ]
  },
  {
   "cell_type": "markdown",
   "id": "99c4256e",
   "metadata": {},
   "source": [
    "#### Creating the labels"
   ]
  },
  {
   "cell_type": "code",
   "execution_count": 3,
   "id": "7844bc30",
   "metadata": {},
   "outputs": [],
   "source": [
    "df=pd.DataFrame(img_files_list,columns=[\"img\",\"label\"])\n",
    "\n",
    "labels = {'air_conditioner' : 0,'car_horn' : 1,'children_playing' : 2,'dog_bark' : 3,'drilling': 4,'engine_idling':5,'gun_shot':6,'jackhammer':7,'siren':8,'street_music':9,   }\n",
    "\n",
    "df['label_code'] = df['label'].map(labels)"
   ]
  },
  {
   "cell_type": "code",
   "execution_count": 4,
   "id": "106a2794",
   "metadata": {},
   "outputs": [
    {
     "data": {
      "text/plain": [
       "air_conditioner     1000\n",
       "children_playing    1000\n",
       "dog_bark            1000\n",
       "drilling            1000\n",
       "engine_idling       1000\n",
       "jackhammer          1000\n",
       "street_music        1000\n",
       "siren                929\n",
       "car_horn             429\n",
       "gun_shot             374\n",
       "Name: label, dtype: int64"
      ]
     },
     "execution_count": 4,
     "metadata": {},
     "output_type": "execute_result"
    }
   ],
   "source": [
    "df['label'].value_counts()"
   ]
  },
  {
   "cell_type": "code",
   "execution_count": 5,
   "id": "b3193e43",
   "metadata": {},
   "outputs": [
    {
     "name": "stdout",
     "output_type": "stream",
     "text": [
      "(8732, 3)\n"
     ]
    }
   ],
   "source": [
    "print(df.shape)"
   ]
  },
  {
   "cell_type": "code",
   "execution_count": 6,
   "id": "b2fcf472",
   "metadata": {},
   "outputs": [
    {
     "data": {
      "text/html": [
       "<div>\n",
       "<style scoped>\n",
       "    .dataframe tbody tr th:only-of-type {\n",
       "        vertical-align: middle;\n",
       "    }\n",
       "\n",
       "    .dataframe tbody tr th {\n",
       "        vertical-align: top;\n",
       "    }\n",
       "\n",
       "    .dataframe thead th {\n",
       "        text-align: right;\n",
       "    }\n",
       "</style>\n",
       "<table border=\"1\" class=\"dataframe\">\n",
       "  <thead>\n",
       "    <tr style=\"text-align: right;\">\n",
       "      <th></th>\n",
       "      <th>img</th>\n",
       "      <th>label</th>\n",
       "      <th>label_code</th>\n",
       "    </tr>\n",
       "  </thead>\n",
       "  <tbody>\n",
       "    <tr>\n",
       "      <th>0</th>\n",
       "      <td>/kaggle/temp/spectrograms/0/100852-0-0-0.png</td>\n",
       "      <td>air_conditioner</td>\n",
       "      <td>0</td>\n",
       "    </tr>\n",
       "    <tr>\n",
       "      <th>1</th>\n",
       "      <td>/kaggle/temp/spectrograms/0/100852-0-0-1.png</td>\n",
       "      <td>air_conditioner</td>\n",
       "      <td>0</td>\n",
       "    </tr>\n",
       "    <tr>\n",
       "      <th>2</th>\n",
       "      <td>/kaggle/temp/spectrograms/0/100852-0-0-10.png</td>\n",
       "      <td>air_conditioner</td>\n",
       "      <td>0</td>\n",
       "    </tr>\n",
       "    <tr>\n",
       "      <th>3</th>\n",
       "      <td>/kaggle/temp/spectrograms/0/100852-0-0-11.png</td>\n",
       "      <td>air_conditioner</td>\n",
       "      <td>0</td>\n",
       "    </tr>\n",
       "    <tr>\n",
       "      <th>4</th>\n",
       "      <td>/kaggle/temp/spectrograms/0/100852-0-0-12.png</td>\n",
       "      <td>air_conditioner</td>\n",
       "      <td>0</td>\n",
       "    </tr>\n",
       "  </tbody>\n",
       "</table>\n",
       "</div>"
      ],
      "text/plain": [
       "                                             img            label  label_code\n",
       "0   /kaggle/temp/spectrograms/0/100852-0-0-0.png  air_conditioner           0\n",
       "1   /kaggle/temp/spectrograms/0/100852-0-0-1.png  air_conditioner           0\n",
       "2  /kaggle/temp/spectrograms/0/100852-0-0-10.png  air_conditioner           0\n",
       "3  /kaggle/temp/spectrograms/0/100852-0-0-11.png  air_conditioner           0\n",
       "4  /kaggle/temp/spectrograms/0/100852-0-0-12.png  air_conditioner           0"
      ]
     },
     "execution_count": 6,
     "metadata": {},
     "output_type": "execute_result"
    }
   ],
   "source": [
    "df.head()"
   ]
  },
  {
   "cell_type": "code",
   "execution_count": null,
   "id": "22090917",
   "metadata": {},
   "outputs": [],
   "source": [
    "X = []\n",
    "\n",
    "shape = (37, 37)\n",
    "for img in df[\"img\"]:\n",
    "\n",
    "    img = cv2.imread(str(img))\n",
    "\n",
    "    img = cv2.cvtColor(img, cv2.COLOR_BGR2GRAY)\n",
    "    \n",
    "    img = cv2.resize(img, shape)\n",
    "    \n",
    "    img = img / 255\n",
    "    \n",
    "    X.append(img)\n",
    "\n",
    "y = df[\"label_code\"]"
   ]
  },
  {
   "cell_type": "code",
   "execution_count": null,
   "id": "eb777c1b",
   "metadata": {},
   "outputs": [],
   "source": [
    "val = 0\n",
    "for image in img_f:\n",
    "    val += 1\n",
    "    plt.imshow(image,cmap=\"gray\")\n",
    "    plt.show()\n",
    "    cv2.waitKey()\n",
    "    if val == 3:\n",
    "        break"
   ]
  },
  {
   "cell_type": "code",
   "execution_count": null,
   "id": "456f8a76",
   "metadata": {},
   "outputs": [],
   "source": []
  }
 ],
 "metadata": {
  "kernelspec": {
   "display_name": "Python 3 (ipykernel)",
   "language": "python",
   "name": "python3"
  },
  "language_info": {
   "codemirror_mode": {
    "name": "ipython",
    "version": 3
   },
   "file_extension": ".py",
   "mimetype": "text/x-python",
   "name": "python",
   "nbconvert_exporter": "python",
   "pygments_lexer": "ipython3",
   "version": "3.10.4"
  }
 },
 "nbformat": 4,
 "nbformat_minor": 5
}
