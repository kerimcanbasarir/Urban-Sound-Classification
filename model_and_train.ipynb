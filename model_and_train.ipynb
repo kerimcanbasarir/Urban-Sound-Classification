{
 "cells": [
  {
   "cell_type": "markdown",
   "id": "668e62eb",
   "metadata": {},
   "source": [
    "## About the Project\n"
   ]
  },
  {
   "cell_type": "markdown",
   "id": "61bcff74",
   "metadata": {},
   "source": [
    "In this project, we will do a project on the classification of sounds heard in cities using the “**UrbanSounds8K**” dataset. Our goal in this project is to prepare an artificial intelligence model using deep learning algorithms.\n",
    "📌 We will download the dataset,\n",
    "\n",
    "📌 create spectrograms from the audio files,\n",
    "\n",
    "📌 save them to the computer according to the categories they belong to. \n",
    "\n",
    "📌 Then, we will prepare the CNN model by preprocessing these images and train this model.\n",
    "\n",
    "\n",
    "\n",
    "(Model performance will not be a criterion during the evaluation phase. *The important thing is to prepare the model, train it and perform hyperparameter optimization*.)\n"
   ]
  },
  {
   "cell_type": "markdown",
   "id": "79ae92bb",
   "metadata": {},
   "source": [
    "### Importing the required libraries"
   ]
  },
  {
   "cell_type": "code",
   "execution_count": 128,
   "id": "35b76063",
   "metadata": {},
   "outputs": [],
   "source": [
    "import numpy as np\n",
    "import pandas as pd\n",
    "import matplotlib.pyplot as plt\n",
    "import tensorflow as tf\n",
    "import os\n",
    "import cv2"
   ]
  },
  {
   "cell_type": "markdown",
   "id": "adffccff",
   "metadata": {},
   "source": [
    "### Importing spectrograms"
   ]
  },
  {
   "cell_type": "code",
   "execution_count": 129,
   "id": "40ad90e7",
   "metadata": {},
   "outputs": [],
   "source": [
    "from pathlib import Path\n",
    "img_path = \"/kaggle/temp/spectrograms/\"\n",
    "\n",
    "classes = [\"air_conditioner\",\"car_horn\",\"children_playing\",\"dog_bark\",\"drilling\",\"engine_idling\",\n",
    "           \"gun_shot\",\"jackhammer\",\"siren\",\"street_music\"]\n",
    "\n",
    "img_files_list=[]\n",
    "\n",
    "for folder in range(0,10):\n",
    "    for img_file in os.listdir(img_path + str(folder)):\n",
    "        \n",
    "        image = img_path+str(folder) + \"/\" + str(img_file)\n",
    "        \n",
    "        img_files_list.append([image, classes[int(folder)]])"
   ]
  },
  {
   "cell_type": "markdown",
   "id": "9dbbff58",
   "metadata": {},
   "source": [
    "#### Creating the labels"
   ]
  },
  {
   "cell_type": "code",
   "execution_count": 130,
   "id": "64420ac5",
   "metadata": {},
   "outputs": [],
   "source": [
    "df=pd.DataFrame(img_files_list,columns=[\"img\",\"label\"])\n",
    "\n",
    "labels = {'air_conditioner' : 0,'car_horn' : 1,'children_playing' : 2,'dog_bark' : 3,'drilling': 4,'engine_idling':5,'gun_shot':6,'jackhammer':7,'siren':8,'street_music':9,   }\n",
    "\n",
    "df['label_code'] = df['label'].map(labels)"
   ]
  },
  {
   "cell_type": "code",
   "execution_count": 131,
   "id": "61f29d9e",
   "metadata": {},
   "outputs": [
    {
     "data": {
      "text/plain": [
       "air_conditioner     1000\n",
       "children_playing    1000\n",
       "dog_bark            1000\n",
       "drilling            1000\n",
       "engine_idling       1000\n",
       "jackhammer          1000\n",
       "street_music        1000\n",
       "siren                929\n",
       "car_horn             429\n",
       "gun_shot             374\n",
       "Name: label, dtype: int64"
      ]
     },
     "execution_count": 131,
     "metadata": {},
     "output_type": "execute_result"
    }
   ],
   "source": [
    "df['label'].value_counts()"
   ]
  },
  {
   "cell_type": "code",
   "execution_count": 132,
   "id": "2f676f9a",
   "metadata": {},
   "outputs": [
    {
     "name": "stdout",
     "output_type": "stream",
     "text": [
      "(8732, 3)\n"
     ]
    }
   ],
   "source": [
    "print(df.shape)"
   ]
  },
  {
   "cell_type": "code",
   "execution_count": 133,
   "id": "0fe37b84",
   "metadata": {},
   "outputs": [
    {
     "data": {
      "text/html": [
       "<div>\n",
       "<style scoped>\n",
       "    .dataframe tbody tr th:only-of-type {\n",
       "        vertical-align: middle;\n",
       "    }\n",
       "\n",
       "    .dataframe tbody tr th {\n",
       "        vertical-align: top;\n",
       "    }\n",
       "\n",
       "    .dataframe thead th {\n",
       "        text-align: right;\n",
       "    }\n",
       "</style>\n",
       "<table border=\"1\" class=\"dataframe\">\n",
       "  <thead>\n",
       "    <tr style=\"text-align: right;\">\n",
       "      <th></th>\n",
       "      <th>img</th>\n",
       "      <th>label</th>\n",
       "      <th>label_code</th>\n",
       "    </tr>\n",
       "  </thead>\n",
       "  <tbody>\n",
       "    <tr>\n",
       "      <th>0</th>\n",
       "      <td>/kaggle/temp/spectrograms/0/100852-0-0-0.png</td>\n",
       "      <td>air_conditioner</td>\n",
       "      <td>0</td>\n",
       "    </tr>\n",
       "    <tr>\n",
       "      <th>1</th>\n",
       "      <td>/kaggle/temp/spectrograms/0/100852-0-0-1.png</td>\n",
       "      <td>air_conditioner</td>\n",
       "      <td>0</td>\n",
       "    </tr>\n",
       "    <tr>\n",
       "      <th>2</th>\n",
       "      <td>/kaggle/temp/spectrograms/0/100852-0-0-10.png</td>\n",
       "      <td>air_conditioner</td>\n",
       "      <td>0</td>\n",
       "    </tr>\n",
       "    <tr>\n",
       "      <th>3</th>\n",
       "      <td>/kaggle/temp/spectrograms/0/100852-0-0-11.png</td>\n",
       "      <td>air_conditioner</td>\n",
       "      <td>0</td>\n",
       "    </tr>\n",
       "    <tr>\n",
       "      <th>4</th>\n",
       "      <td>/kaggle/temp/spectrograms/0/100852-0-0-12.png</td>\n",
       "      <td>air_conditioner</td>\n",
       "      <td>0</td>\n",
       "    </tr>\n",
       "  </tbody>\n",
       "</table>\n",
       "</div>"
      ],
      "text/plain": [
       "                                             img            label  label_code\n",
       "0   /kaggle/temp/spectrograms/0/100852-0-0-0.png  air_conditioner           0\n",
       "1   /kaggle/temp/spectrograms/0/100852-0-0-1.png  air_conditioner           0\n",
       "2  /kaggle/temp/spectrograms/0/100852-0-0-10.png  air_conditioner           0\n",
       "3  /kaggle/temp/spectrograms/0/100852-0-0-11.png  air_conditioner           0\n",
       "4  /kaggle/temp/spectrograms/0/100852-0-0-12.png  air_conditioner           0"
      ]
     },
     "execution_count": 133,
     "metadata": {},
     "output_type": "execute_result"
    }
   ],
   "source": [
    "df.head()"
   ]
  },
  {
   "cell_type": "code",
   "execution_count": 134,
   "id": "a93841b3",
   "metadata": {},
   "outputs": [],
   "source": [
    "X = []\n",
    "\n",
    "shape = (37, 37)\n",
    "for img in df[\"img\"]:\n",
    "\n",
    "    img = cv2.imread(str(img))\n",
    "\n",
    "    img = cv2.cvtColor(img, cv2.COLOR_BGR2GRAY)\n",
    "    \n",
    "    img = cv2.resize(img, shape)\n",
    "    \n",
    "    img = img / 255\n",
    "    \n",
    "    X.append(img)\n",
    "\n",
    "y = df[\"label_code\"]"
   ]
  },
  {
   "cell_type": "code",
   "execution_count": 135,
   "id": "fa5c65bc",
   "metadata": {},
   "outputs": [
    {
     "data": {
      "image/png": "[encoded data removed]",
      "text/plain": [
       "<Figure size 640x480 with 1 Axes>"
      ]
     },
     "metadata": {},
     "output_type": "display_data"
    },
    {
     "data": {
      "image/png": "[encoded data removed]",
      "text/plain": [
       "<Figure size 640x480 with 1 Axes>"
      ]
     },
     "metadata": {},
     "output_type": "display_data"
    },
    {
     "data": {
      "image/png": "[encoded data removed]",
      "text/plain": [
       "<Figure size 640x480 with 1 Axes>"
      ]
     },
     "metadata": {},
     "output_type": "display_data"
    }
   ],
   "source": [
    "val = 0\n",
    "for image in img_f:\n",
    "    val += 1\n",
    "    plt.imshow(image,cmap=\"gray\")\n",
    "    plt.show()\n",
    "    cv2.waitKey()\n",
    "    if val == 3:\n",
    "        break"
   ]
  },
  {
   "cell_type": "markdown",
   "id": "81ae9da6",
   "metadata": {},
   "source": [
    "### Train Test Split\n",
    "\n",
    "📌 We divide the data set into two blocks \n",
    "\n",
    "📌 From them we extract values of X and Y"
   ]
  },
  {
   "cell_type": "code",
   "execution_count": 136,
   "id": "bd1f692d",
   "metadata": {},
   "outputs": [],
   "source": [
    "from sklearn.model_selection import train_test_split"
   ]
  },
  {
   "cell_type": "code",
   "execution_count": 137,
   "id": "b1a4abdf",
   "metadata": {},
   "outputs": [],
   "source": [
    "X_train, X_test_val, y_train, y_test_val = train_test_split(X, y)\n",
    "X_test, X_val, y_test, y_val = train_test_split(X_test_val, y_test_val)"
   ]
  },
  {
   "cell_type": "code",
   "execution_count": null,
   "id": "5b1bdb81",
   "metadata": {},
   "outputs": [],
   "source": []
  },
  {
   "cell_type": "code",
   "execution_count": 138,
   "id": "d735a3eb",
   "metadata": {},
   "outputs": [],
   "source": [
    "X_train = np.array(X_train)\n",
    "X_test = np.array(X_test)\n",
    "X_val = np.array(X_val)\n",
    "y_train = np.array(y_train)\n",
    "y_test = np.array(y_test)\n",
    "y_val = np.array(y_val)\n",
    "\n",
    "X_train = X_train.reshape(-1,37,37,1)\n",
    "X_test = X_test.reshape(-1,37,37,1)\n",
    "X_val = X_val.reshape(-1,37,37,1)\n",
    "y_train = y_train.reshape(-1,)\n",
    "y_test = y_test.reshape(-1,)\n",
    "y_val = y_val.reshape(-1,)"
   ]
  },
  {
   "cell_type": "code",
   "execution_count": 139,
   "id": "535c896f",
   "metadata": {},
   "outputs": [
    {
     "name": "stdout",
     "output_type": "stream",
     "text": [
      "X_train :(6549, 37, 37, 1) X_test : (1637, 37, 37, 1) X_val : (546, 37, 37, 1)\n",
      "y_train : (6549,) y_test : (1637,) y_val : (546, 37, 37, 1)\n"
     ]
    }
   ],
   "source": [
    "print(f\"X_train :{X_train.shape} X_test : {X_test.shape} X_val : {X_val.shape}\")\n",
    "print(f\"y_train : {y_train.shape} y_test : {y_test.shape} y_val : {X_val.shape}\")"
   ]
  },
  {
   "cell_type": "markdown",
   "id": "f4f447f8",
   "metadata": {},
   "source": [
    "### Creating a model"
   ]
  },
  {
   "cell_type": "code",
   "execution_count": 140,
   "id": "0a2a0047",
   "metadata": {},
   "outputs": [],
   "source": [
    "from tensorflow.keras import layers\n",
    "from tensorflow.keras.models import Sequential\n",
    "from tensorflow.python.client import device_lib"
   ]
  },
  {
   "cell_type": "markdown",
   "id": "74b397fb",
   "metadata": {},
   "source": [
    "We'll create our layers for our neural network model.\n",
    "\n",
    "📌 **Softmax Function**: Used for multiple classification problems, produces outputs between (0,1) showing the probability that each given input belongs to a class.\n",
    "\n",
    "\n",
    "📌**ReLU Function**: If the incoming input value is greater than 0, it is given as an unchanged output. It works like a sort of linear function."
   ]
  },
  {
   "cell_type": "code",
   "execution_count": 141,
   "id": "683a12f2",
   "metadata": {},
   "outputs": [],
   "source": [
    "\n",
    "\n",
    "model = tf.keras.Sequential()\n",
    "\n",
    "\n",
    "model.add(tf.keras.layers.Conv2D(32, kernel_size=(3,3), strides=(1,1), activation=\"relu\", padding=\"same\" input_shape=(37,37,1)))\n",
    "\n",
    "model.add(tf.keras.layers.MaxPooling2D((2,2)))\n",
    "\n",
    "model.add(tf.keras.layers.Conv2D(64, kernel_size=(3,3), strides=(1,1), activation=\"relu\", padding=\"same\"))\n",
    "\n",
    "model.add(tf.keras.layers.MaxPooling2D((2,2)))\n",
    "\n",
    "model.add(tf.keras.layers.Conv2D(32, kernel_size=(3,3), strides=(1,1), activation=\"relu\", padding=\"same\"))\n",
    "\n",
    "\n",
    "model.add(tf.keras.layers.Flatten())\n",
    "\n",
    "model.add(tf.keras.layers.Dense(64, activation = \"relu\"))\n",
    "model.add(tf.keras.layers.Dropout(0.5))\n",
    "model.add(tf.keras.layers.Dense(64, activation = \"relu\"))\n",
    "model.add(tf.keras.layers.Dropout(0.5))\n",
    "model.add(tf.keras.layers.Dense(10, activation = \"softmax\"))\n"
   ]
  },
  {
   "cell_type": "code",
   "execution_count": 142,
   "id": "acc30f1c",
   "metadata": {},
   "outputs": [
    {
     "name": "stdout",
     "output_type": "stream",
     "text": [
      "Model: \"sequential_1\"\n",
      "_________________________________________________________________\n",
      " Layer (type)                Output Shape              Param #   \n",
      "=================================================================\n",
      " conv2d_3 (Conv2D)           (None, 37, 37, 32)        320       \n",
      "                                                                 \n",
      " max_pooling2d_2 (MaxPooling  (None, 18, 18, 32)       0         \n",
      " 2D)                                                             \n",
      "                                                                 \n",
      " conv2d_4 (Conv2D)           (None, 18, 18, 64)        18496     \n",
      "                                                                 \n",
      " max_pooling2d_3 (MaxPooling  (None, 9, 9, 64)         0         \n",
      " 2D)                                                             \n",
      "                                                                 \n",
      " conv2d_5 (Conv2D)           (None, 9, 9, 32)          18464     \n",
      "                                                                 \n",
      " flatten_1 (Flatten)         (None, 2592)              0         \n",
      "                                                                 \n",
      " dense_3 (Dense)             (None, 64)                165952    \n",
      "                                                                 \n",
      " dropout_2 (Dropout)         (None, 64)                0         \n",
      "                                                                 \n",
      " dense_4 (Dense)             (None, 64)                4160      \n",
      "                                                                 \n",
      " dropout_3 (Dropout)         (None, 64)                0         \n",
      "                                                                 \n",
      " dense_5 (Dense)             (None, 10)                650       \n",
      "                                                                 \n",
      "=================================================================\n",
      "Total params: 208,042\n",
      "Trainable params: 208,042\n",
      "Non-trainable params: 0\n",
      "_________________________________________________________________\n"
     ]
    }
   ],
   "source": [
    "model.summary()"
   ]
  },
  {
   "cell_type": "markdown",
   "id": "a6c07b21",
   "metadata": {},
   "source": [
    "📌 Compile the model"
   ]
  },
  {
   "cell_type": "code",
   "execution_count": 143,
   "id": "d0cd431d",
   "metadata": {},
   "outputs": [],
   "source": [
    "model.compile(loss=\"sparse_categorical_crossentropy\", optimizer=\"adam\", metrics=[\"accuracy\"])"
   ]
  },
  {
   "cell_type": "markdown",
   "id": "034224e6",
   "metadata": {},
   "source": [
    "### Model Training"
   ]
  },
  {
   "cell_type": "code",
   "execution_count": 144,
   "id": "2a3c21c7",
   "metadata": {},
   "outputs": [
    {
     "name": "stdout",
     "output_type": "stream",
     "text": [
      "Epoch 1/50\n",
      "52/52 [==============================] - 7s 133ms/step - loss: 2.2539 - accuracy: 0.1388 - val_loss: 2.1364 - val_accuracy: 0.2326\n",
      "Epoch 2/50\n",
      "52/52 [==============================] - 7s 132ms/step - loss: 2.0988 - accuracy: 0.2109 - val_loss: 1.9211 - val_accuracy: 0.2656\n",
      "Epoch 3/50\n",
      "52/52 [==============================] - 7s 135ms/step - loss: 1.9995 - accuracy: 0.2449 - val_loss: 1.8514 - val_accuracy: 0.2802\n",
      "Epoch 4/50\n",
      "52/52 [==============================] - 7s 127ms/step - loss: 1.9175 - accuracy: 0.2698 - val_loss: 1.7664 - val_accuracy: 0.3388\n",
      "Epoch 5/50\n",
      "52/52 [==============================] - 6s 125ms/step - loss: 1.8652 - accuracy: 0.2921 - val_loss: 1.7035 - val_accuracy: 0.3388\n",
      "Epoch 6/50\n",
      "52/52 [==============================] - 7s 127ms/step - loss: 1.7842 - accuracy: 0.3185 - val_loss: 1.6403 - val_accuracy: 0.4121\n",
      "Epoch 7/50\n",
      "52/52 [==============================] - 6s 111ms/step - loss: 1.7138 - accuracy: 0.3523 - val_loss: 1.6014 - val_accuracy: 0.4194\n",
      "Epoch 8/50\n",
      "52/52 [==============================] - 6s 120ms/step - loss: 1.6667 - accuracy: 0.3703 - val_loss: 1.4906 - val_accuracy: 0.4560\n",
      "Epoch 9/50\n",
      "52/52 [==============================] - 6s 122ms/step - loss: 1.6293 - accuracy: 0.3875 - val_loss: 1.4750 - val_accuracy: 0.4725\n",
      "Epoch 10/50\n",
      "52/52 [==============================] - 6s 117ms/step - loss: 1.5841 - accuracy: 0.3993 - val_loss: 1.4413 - val_accuracy: 0.5037\n",
      "Epoch 11/50\n",
      "52/52 [==============================] - 6s 120ms/step - loss: 1.5754 - accuracy: 0.4085 - val_loss: 1.3845 - val_accuracy: 0.4945\n",
      "Epoch 12/50\n",
      "52/52 [==============================] - 6s 120ms/step - loss: 1.5217 - accuracy: 0.4367 - val_loss: 1.3574 - val_accuracy: 0.5055\n",
      "Epoch 13/50\n",
      "52/52 [==============================] - 6s 117ms/step - loss: 1.4837 - accuracy: 0.4530 - val_loss: 1.3010 - val_accuracy: 0.5330\n",
      "Epoch 14/50\n",
      "52/52 [==============================] - 6s 115ms/step - loss: 1.4613 - accuracy: 0.4541 - val_loss: 1.3440 - val_accuracy: 0.5128\n",
      "Epoch 15/50\n",
      "52/52 [==============================] - 6s 117ms/step - loss: 1.4412 - accuracy: 0.4735 - val_loss: 1.2402 - val_accuracy: 0.5366\n",
      "Epoch 16/50\n",
      "52/52 [==============================] - 7s 132ms/step - loss: 1.3743 - accuracy: 0.4943 - val_loss: 1.1971 - val_accuracy: 0.5659\n",
      "Epoch 17/50\n",
      "52/52 [==============================] - 6s 114ms/step - loss: 1.3866 - accuracy: 0.4921 - val_loss: 1.1922 - val_accuracy: 0.5769\n",
      "Epoch 18/50\n",
      "52/52 [==============================] - 7s 127ms/step - loss: 1.3212 - accuracy: 0.5178 - val_loss: 1.1472 - val_accuracy: 0.5788\n",
      "Epoch 19/50\n",
      "52/52 [==============================] - 6s 116ms/step - loss: 1.3177 - accuracy: 0.5219 - val_loss: 1.2617 - val_accuracy: 0.5293\n",
      "Epoch 20/50\n",
      "52/52 [==============================] - 6s 119ms/step - loss: 1.3149 - accuracy: 0.5240 - val_loss: 1.1468 - val_accuracy: 0.5751\n",
      "Epoch 21/50\n",
      "52/52 [==============================] - 6s 123ms/step - loss: 1.2919 - accuracy: 0.5303 - val_loss: 1.1442 - val_accuracy: 0.5952\n",
      "Epoch 22/50\n",
      "52/52 [==============================] - 6s 120ms/step - loss: 1.2503 - accuracy: 0.5424 - val_loss: 1.1082 - val_accuracy: 0.5879\n",
      "Epoch 23/50\n",
      "52/52 [==============================] - 6s 121ms/step - loss: 1.2471 - accuracy: 0.5492 - val_loss: 1.0849 - val_accuracy: 0.5952\n",
      "Epoch 24/50\n",
      "52/52 [==============================] - 7s 126ms/step - loss: 1.2741 - accuracy: 0.5468 - val_loss: 1.0839 - val_accuracy: 0.6172\n",
      "Epoch 25/50\n",
      "52/52 [==============================] - 6s 115ms/step - loss: 1.2239 - accuracy: 0.5538 - val_loss: 1.0393 - val_accuracy: 0.6026\n",
      "Epoch 26/50\n",
      "52/52 [==============================] - 7s 131ms/step - loss: 1.2018 - accuracy: 0.5656 - val_loss: 1.0378 - val_accuracy: 0.6190\n",
      "Epoch 27/50\n",
      "52/52 [==============================] - 6s 120ms/step - loss: 1.1972 - accuracy: 0.5689 - val_loss: 1.0376 - val_accuracy: 0.6447\n",
      "Epoch 28/50\n",
      "52/52 [==============================] - 6s 121ms/step - loss: 1.1825 - accuracy: 0.5754 - val_loss: 1.0241 - val_accuracy: 0.6337\n",
      "Epoch 29/50\n",
      "52/52 [==============================] - 7s 127ms/step - loss: 1.1287 - accuracy: 0.5912 - val_loss: 1.0023 - val_accuracy: 0.6209\n",
      "Epoch 30/50\n",
      "52/52 [==============================] - 6s 115ms/step - loss: 1.1492 - accuracy: 0.5951 - val_loss: 0.9919 - val_accuracy: 0.6319\n",
      "Epoch 31/50\n",
      "52/52 [==============================] - 6s 117ms/step - loss: 1.1286 - accuracy: 0.5983 - val_loss: 0.9691 - val_accuracy: 0.6502\n",
      "Epoch 32/50\n",
      "52/52 [==============================] - 6s 113ms/step - loss: 1.1219 - accuracy: 0.5989 - val_loss: 1.0983 - val_accuracy: 0.6117\n",
      "Epoch 33/50\n",
      "52/52 [==============================] - 6s 117ms/step - loss: 1.1125 - accuracy: 0.6022 - val_loss: 0.9648 - val_accuracy: 0.6538\n",
      "Epoch 34/50\n",
      "52/52 [==============================] - 6s 119ms/step - loss: 1.0954 - accuracy: 0.6125 - val_loss: 0.9745 - val_accuracy: 0.6538\n",
      "Epoch 35/50\n",
      "52/52 [==============================] - 6s 112ms/step - loss: 1.0908 - accuracy: 0.6135 - val_loss: 0.9173 - val_accuracy: 0.6722\n",
      "Epoch 36/50\n",
      "52/52 [==============================] - 6s 117ms/step - loss: 1.0531 - accuracy: 0.6280 - val_loss: 0.9106 - val_accuracy: 0.6703\n",
      "Epoch 37/50\n",
      "52/52 [==============================] - 7s 125ms/step - loss: 1.0279 - accuracy: 0.6297 - val_loss: 0.9742 - val_accuracy: 0.6355\n",
      "Epoch 38/50\n",
      "52/52 [==============================] - 6s 111ms/step - loss: 1.0614 - accuracy: 0.6209 - val_loss: 0.9232 - val_accuracy: 0.6740\n",
      "Epoch 39/50\n",
      "52/52 [==============================] - 6s 121ms/step - loss: 1.0385 - accuracy: 0.6341 - val_loss: 0.9226 - val_accuracy: 0.6667\n",
      "Epoch 40/50\n",
      "52/52 [==============================] - 6s 118ms/step - loss: 0.9977 - accuracy: 0.6471 - val_loss: 0.8965 - val_accuracy: 0.6777\n",
      "Epoch 41/50\n",
      "52/52 [==============================] - 6s 119ms/step - loss: 0.9860 - accuracy: 0.6574 - val_loss: 0.9060 - val_accuracy: 0.6667\n",
      "Epoch 42/50\n",
      "52/52 [==============================] - 6s 115ms/step - loss: 0.9705 - accuracy: 0.6546 - val_loss: 0.9195 - val_accuracy: 0.6593\n",
      "Epoch 43/50\n",
      "52/52 [==============================] - 6s 113ms/step - loss: 0.9530 - accuracy: 0.6616 - val_loss: 0.8534 - val_accuracy: 0.6813\n",
      "Epoch 44/50\n",
      "52/52 [==============================] - 6s 120ms/step - loss: 0.9345 - accuracy: 0.6708 - val_loss: 0.9357 - val_accuracy: 0.6374\n",
      "Epoch 45/50\n",
      "52/52 [==============================] - 6s 114ms/step - loss: 0.9526 - accuracy: 0.6566 - val_loss: 0.8614 - val_accuracy: 0.6795\n",
      "Epoch 46/50\n",
      "52/52 [==============================] - 6s 115ms/step - loss: 0.9505 - accuracy: 0.6570 - val_loss: 0.8621 - val_accuracy: 0.6832\n",
      "Epoch 47/50\n",
      "52/52 [==============================] - 6s 120ms/step - loss: 0.9282 - accuracy: 0.6716 - val_loss: 0.9417 - val_accuracy: 0.6612\n",
      "Epoch 48/50\n",
      "52/52 [==============================] - 6s 121ms/step - loss: 0.9267 - accuracy: 0.6717 - val_loss: 0.8515 - val_accuracy: 0.6795\n",
      "Epoch 49/50\n",
      "52/52 [==============================] - 6s 125ms/step - loss: 0.9032 - accuracy: 0.6877 - val_loss: 0.8511 - val_accuracy: 0.6795\n",
      "Epoch 50/50\n",
      "52/52 [==============================] - 6s 118ms/step - loss: 0.8978 - accuracy: 0.6767 - val_loss: 0.8343 - val_accuracy: 0.6941\n"
     ]
    }
   ],
   "source": [
    "X_train = tf.stack(X_train)\n",
    "y_train = tf.stack(y_train)\n",
    "X_val = tf.stack(X_val)\n",
    "y_val = tf.stack(y_val)\n",
    "\n",
    "results = model.fit(X_train, y_train, batch_size=128, epochs=50, validation_data=(X_val,y_val))"
   ]
  },
  {
   "cell_type": "markdown",
   "id": "b4127a24",
   "metadata": {},
   "source": [
    "### Model Evaluation"
   ]
  },
  {
   "cell_type": "code",
   "execution_count": 150,
   "id": "a5adc69d",
   "metadata": {},
   "outputs": [
    {
     "data": {
      "image/png": "[encoded data removed]",
      "text/plain": [
       "<Figure size 640x480 with 1 Axes>"
      ]
     },
     "metadata": {},
     "output_type": "display_data"
    }
   ],
   "source": [
    "plt.plot(results.history[\"accuracy\"], label=\"accuracy\")\n",
    "\n",
    "plt.plot(results.history[\"val_accuracy\"], label=\"val_accuracy\")\n",
    "\n",
    "plt.xlabel(\"Epoch\")\n",
    "\n",
    "plt.ylabel(\"Loss\")\n",
    "\n",
    "plt.legend()\n",
    "\n",
    "plt.grid(True)\n",
    "\n",
    "plt.show()\n",
    "\n"
   ]
  },
  {
   "cell_type": "code",
   "execution_count": 151,
   "id": "dc5ce6b3",
   "metadata": {},
   "outputs": [
    {
     "data": {
      "image/png": "[encoded data removed]",
      "text/plain": [
       "<Figure size 640x480 with 1 Axes>"
      ]
     },
     "metadata": {},
     "output_type": "display_data"
    }
   ],
   "source": [
    "\n",
    "plt.plot(results.history['loss'], label='loss')\n",
    "\n",
    "\n",
    "plt.plot(results.history['val_loss'], label='val_loss')\n",
    "\n",
    "plt.xlabel('Epoch')\n",
    "plt.ylabel('Loss')\n",
    "\n",
    "plt.legend()\n",
    "\n",
    "plt.grid(True)\n",
    "\n",
    "plt.show()"
   ]
  },
  {
   "cell_type": "code",
   "execution_count": 159,
   "id": "11748537",
   "metadata": {},
   "outputs": [
    {
     "name": "stdout",
     "output_type": "stream",
     "text": [
      "52/52 [==============================] - 1s 10ms/step - loss: 0.8529 - accuracy: 0.7135\n"
     ]
    },
    {
     "data": {
      "text/plain": [
       "[0.8529035449028015, 0.7135003209114075]"
      ]
     },
     "execution_count": 159,
     "metadata": {},
     "output_type": "execute_result"
    }
   ],
   "source": [
    "X_test=tf.stack(X_test)\n",
    "y_test=tf.stack(y_test)\n",
    "model.evaluate(X_test,y_test)"
   ]
  },
  {
   "cell_type": "code",
   "execution_count": 160,
   "id": "745a2c23",
   "metadata": {},
   "outputs": [
    {
     "data": {
      "text/plain": [
       "TensorShape([1637, 37, 37, 1])"
      ]
     },
     "execution_count": 160,
     "metadata": {},
     "output_type": "execute_result"
    }
   ],
   "source": [
    "X_test.shape"
   ]
  },
  {
   "cell_type": "code",
   "execution_count": 218,
   "id": "4bb5ffa0",
   "metadata": {},
   "outputs": [
    {
     "name": "stdout",
     "output_type": "stream",
     "text": [
      "1/1 [==============================] - 0s 14ms/step\n"
     ]
    },
    {
     "data": {
      "text/plain": [
       "array([[6.5686336e-36, 5.6484614e-32, 4.5367052e-08, 1.0000000e+00,\n",
       "        5.0859384e-16, 1.4567989e-34, 2.3884780e-20, 0.0000000e+00,\n",
       "        2.9290564e-15, 7.9201663e-15]], dtype=float32)"
      ]
     },
     "execution_count": 218,
     "metadata": {},
     "output_type": "execute_result"
    }
   ],
   "source": [
    "location = 250\n",
    "X_test = np.array(X_test)\n",
    "\n",
    "prediction_result = model.predict(X_test[location].reshape(1, 37, 37, 1))\n",
    "\n",
    "prediction_result"
   ]
  },
  {
   "cell_type": "code",
   "execution_count": 219,
   "id": "9902f9ea",
   "metadata": {},
   "outputs": [
    {
     "name": "stdout",
     "output_type": "stream",
     "text": [
      "3\n",
      "1.0\n"
     ]
    }
   ],
   "source": [
    "predicted_class = prediction_result.argmax()\n",
    "print(predicted_class)\n",
    "predicted_probability = prediction_result.max()\n",
    "print(predicted_probability)"
   ]
  },
  {
   "cell_type": "code",
   "execution_count": 220,
   "id": "88e332a2",
   "metadata": {},
   "outputs": [
    {
     "name": "stdout",
     "output_type": "stream",
     "text": [
      " to class 3 with 1.0 probability\n"
     ]
    }
   ],
   "source": [
    "print(f\" predicted class :  {predicted_class} predicted_probability : {predicted_probability}\")"
   ]
  },
  {
   "cell_type": "code",
   "execution_count": 221,
   "id": "f0831ef4",
   "metadata": {},
   "outputs": [
    {
     "name": "stdout",
     "output_type": "stream",
     "text": [
      "this image was actually belongs to class 3.\n"
     ]
    }
   ],
   "source": [
    "print(f\"this image was actually belongs to class {y_test[location]}.\")"
   ]
  },
  {
   "cell_type": "code",
   "execution_count": null,
   "id": "ad923b4d",
   "metadata": {},
   "outputs": [],
   "source": []
  }
 ],
 "metadata": {
  "kernelspec": {
   "display_name": "Python 3 (ipykernel)",
   "language": "python",
   "name": "python3"
  },
  "language_info": {
   "codemirror_mode": {
    "name": "ipython",
    "version": 3
   },
   "file_extension": ".py",
   "mimetype": "text/x-python",
   "name": "python",
   "nbconvert_exporter": "python",
   "pygments_lexer": "ipython3",
   "version": "3.10.4"
  }
 },
 "nbformat": 4,
 "nbformat_minor": 5
}
